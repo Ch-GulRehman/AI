{
  "nbformat": 4,
  "nbformat_minor": 0,
  "metadata": {
    "colab": {
      "provenance": [],
      "collapsed_sections": [],
      "authorship_tag": "ABX9TyO/8XFiCenutDmbVMaRGntq",
      "include_colab_link": true
    },
    "kernelspec": {
      "name": "python3",
      "display_name": "Python 3"
    },
    "language_info": {
      "name": "python"
    }
  },
  "cells": [
    {
      "cell_type": "markdown",
      "metadata": {
        "id": "view-in-github",
        "colab_type": "text"
      },
      "source": [
        "<a href=\"https://colab.research.google.com/github/Ch-GulRehman/AI/blob/main/Untitled0.ipynb\" target=\"_parent\"><img src=\"https://colab.research.google.com/assets/colab-badge.svg\" alt=\"Open In Colab\"/></a>"
      ]
    },
    {
      "cell_type": "code",
      "execution_count": null,
      "metadata": {
        "id": "6AVdDARc2KoP"
      },
      "outputs": [],
      "source": [
        "n=int(input(\"enter a number\"))\n",
        "if n%2==0:\n",
        "    print(\"you entered an even number\")\n",
        "else:\n",
        "    print(\"you entered an odd number\")"
      ]
    },
    {
      "cell_type": "code",
      "source": [
        "sum=0\n",
        "n=int(input(\"enter an integer value:\"))\n",
        "while n!=0:\n",
        "    sum=sum+n\n",
        "    n=int(input(\"enter an integer value:\"))\n",
        "print(\"sum of given values is\",sum)"
      ],
      "metadata": {
        "id": "Gv-avqBg2MQc"
      },
      "execution_count": null,
      "outputs": []
    },
    {
      "cell_type": "code",
      "source": [
        "isPrime=True\n",
        "i=2\n",
        "n=int(input(\"enter a number:\"))\n",
        "while n>i:\n",
        "    remainder=n%i\n",
        "    if remainder==0:\n",
        "        isPrime=False\n",
        "        break\n",
        "    else:\n",
        "        i=i+1\n",
        "if isPrime:\n",
        "    print(\"The number is a prime number\")\n",
        "else:\n",
        "    print(\"The number is a not a prime number\")"
      ],
      "metadata": {
        "id": "MjVvdym_2Mbf"
      },
      "execution_count": null,
      "outputs": []
    },
    {
      "cell_type": "code",
      "source": [
        "sum=0\n",
        "i=0\n",
        "while i<5:\n",
        "    num=int(input(\"enter a number\"))\n",
        "    sum=sum+num\n",
        "    i=i+1\n",
        "print(\"the sum of five integers is \",sum)"
      ],
      "metadata": {
        "id": "VVan0bmm2MeO"
      },
      "execution_count": null,
      "outputs": []
    },
    {
      "cell_type": "code",
      "source": [
        "sum=0\n",
        "i=1\n",
        "while i<=10:\n",
        "    sum=sum+i\n",
        "    i=i+1\n",
        "print(\"the sum of first ten numbers is \",sum)"
      ],
      "metadata": {
        "id": "BNWNryRf2MhQ"
      },
      "execution_count": null,
      "outputs": []
    },
    {
      "cell_type": "code",
      "source": [
        "name = input('What is your name? ') \n",
        "print('Hello ' + name)\n",
        "job = input('What is your job? ') \n",
        "print('Your job is ' + job)\n",
        "num = input('Give me a number? ') \n",
        "print('You said: ' + str(num))"
      ],
      "metadata": {
        "id": "bZTqdURm2MkM"
      },
      "execution_count": null,
      "outputs": []
    },
    {
      "cell_type": "code",
      "source": [
        "import random\n",
        "# Awroken\n",
        "MINIMUM = 1\n",
        "MAXIMUM = 9\n",
        "NUMBER = random.randint(MINIMUM, MAXIMUM)\n",
        "GUESS = None\n",
        "ANOTHER = None\n",
        "TRY = 0\n",
        "RUNNING = True\n",
        "print (\"Alright...\")\n",
        "while RUNNING:\n",
        " GUESS =input(\"What is your lucky number? \")\n",
        " if int(GUESS) < NUMBER:\n",
        "        print (\"Wrong, too low.\")\n",
        " elif int(GUESS) > NUMBER:\n",
        "     print (\"Wrong, too high.\")\n",
        " elif GUESS.lower() == \"exit\":\n",
        "     print (\"Better luck next time.\")\n",
        " elif int(GUESS) == NUMBER:\n",
        "     print (\"Yes, that's the one, %s.\" %str(NUMBER))\n",
        " if TRY < 2:\n",
        "     print (\"Impressive, only %s tries.\" % str(TRY))\n",
        " elif TRY > 2 and TRY < 10:\n",
        "     print( \"Pretty good, %s tries.\" % str(TRY))\n",
        " else:\n",
        "     print (\"Bad, %s tries.\" % str(TRY))\n",
        " RUNNING = False\n",
        " TRY += 1\n"
      ],
      "metadata": {
        "id": "UQJwtaIW2MnA"
      },
      "execution_count": null,
      "outputs": []
    },
    {
      "cell_type": "code",
      "source": [
        "n=str(input(\"enter the integers\"))\n",
        "i=len(n)\n",
        "k=i-1\n",
        "while k>=0:\n",
        "    print(n[k],end='')\n",
        "    k=k-1"
      ],
      "metadata": {
        "id": "le7m7O4w2MpY"
      },
      "execution_count": null,
      "outputs": []
    },
    {
      "cell_type": "code",
      "source": [
        "setOfIntegers=[]\n",
        "n=int(input(\"enter the number of integers you want to enter\"))\n",
        "i=0\n",
        "while n-1>=i:\n",
        "    integer=int(input())\n",
        "    setOfIntegers.append(integer)\n",
        "    i=i+1\n",
        "k=0\n",
        "sumEven=0\n",
        "sumOdd=0\n",
        "while n-1>=k:\n",
        "    if setOfIntegers[k]%2==0:\n",
        "        sumEven=sumEven+setOfIntegers[k]\n",
        "    else:\n",
        "        sumOdd=sumOdd+setOfIntegers[k]\n",
        "    k=k+1\n",
        "print(\"The sum of even numbers is :\",sumEven)\n",
        "print(\"The sum of odd numbers is :\",sumOdd)"
      ],
      "metadata": {
        "id": "XsnUex8l2Msz"
      },
      "execution_count": null,
      "outputs": []
    },
    {
      "cell_type": "code",
      "source": [
        "i=0\n",
        "k=1\n",
        "sum=0\n",
        "l=1\n",
        "while l<=10:\n",
        "    sum=i+k\n",
        "    print(sum,end=' ')\n",
        "    i=k\n",
        "    k=sum\n",
        "    l=l+1"
      ],
      "metadata": {
        "id": "-ifAB2BQ2MvV"
      },
      "execution_count": null,
      "outputs": []
    },
    {
      "cell_type": "code",
      "source": [
        "n=int(input(\"Enter a number\"))\n",
        "fact=1\n",
        "i=1\n",
        "while i<=n:\n",
        "    fact=fact*i\n",
        "    i=i+1\n",
        "print(\"The factorial of the number is\",fact)"
      ],
      "metadata": {
        "id": "AYEwdap-2Mx7"
      },
      "execution_count": null,
      "outputs": []
    },
    {
      "cell_type": "code",
      "source": [
        "marks=int(input(\"Enter your marks\"))\n",
        "if marks<50:\n",
        "    print(\"YOUR GRADE IS F\")\n",
        "if marks>50 and marks<60:\n",
        "    print(\"YOUR GRADE IS E\")\n",
        "if marks>61 and marks<70:\n",
        "    print(\"YOUR GRADE IS D\")\n",
        "if marks>71 and marks<80:\n",
        "    print(\"YOUR GRADE IS C\")\n",
        "if marks>81 and marks<90:\n",
        "    print(\"YOUR GRADE IS B\")\n",
        "if marks>91 and marks<=100:\n",
        "    print(\"YOUR GRADE IS A\")\n"
      ],
      "metadata": {
        "id": "2ObdRcQ92M0r"
      },
      "execution_count": null,
      "outputs": []
    }
  ]
}